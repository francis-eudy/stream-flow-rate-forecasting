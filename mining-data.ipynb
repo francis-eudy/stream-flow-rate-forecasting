{
 "cells": [
  {
   "cell_type": "code",
   "execution_count": 1,
   "id": "young-circulation",
   "metadata": {},
   "outputs": [],
   "source": [
    "import numpy as np\n",
    "import pandas as pd\n",
    "\n",
    "\n",
    "# URL\n",
    "# https://waterdata.usgs.gov/pa/nwis/uv?format=rdb&site_no=01571500&period=&begin_date=2021-01-01&end_date=2021-01-20\n"
   ]
  },
  {
   "cell_type": "code",
   "execution_count": 10,
   "id": "prepared-dictionary",
   "metadata": {},
   "outputs": [],
   "source": [
    "BASE_URL = 'https://waterdata.usgs.gov/pa/nwis/uv'\n",
    "FORMAT = 'rdb' # rdb\n",
    "SITE_NUMBER = '01571500' # Yellow Breeches Creek near Camp Hill, PA\n",
    "BEGIN_DATE = '2020-01-01' # 1985-10-01 / 2007-10-01\n",
    "END_DATE = '2020-12-31' # 2021-01-18 / 2021-01-18"
   ]
  },
  {
   "cell_type": "code",
   "execution_count": 14,
   "id": "stone-cartoon",
   "metadata": {},
   "outputs": [],
   "source": [
    "# url_ = BASE_URL + '?' + 'format=' + FORMAT + '&site_no=' + SITE_NUMBER + '&period=&begin_date=' + BEGIN_DATE + '&end_date=' + END_DATE\n",
    "url_ = 'https://nwis.waterdata.usgs.gov/pa/nwis/uv/?format=rdb&site_no=01571500&period=&begin_date=2015-01-01&end_date=2020-12-31'\n",
    "import requests\n",
    "import json\n",
    "response = requests.get(url_).text\n",
    "# response\n",
    "\n",
    "file1 = open(\"data/USGS/Yellow-Breeches-Creek/raw.txt\",\"w\")#write mode \n",
    "file1.write(response) \n",
    "file1.close() "
   ]
  },
  {
   "cell_type": "code",
   "execution_count": null,
   "id": "forbidden-duncan",
   "metadata": {},
   "outputs": [],
   "source": []
  },
  {
   "cell_type": "code",
   "execution_count": 19,
   "id": "flush-desire",
   "metadata": {
    "scrolled": true
   },
   "outputs": [
    {
     "data": {
      "text/html": [
       "<div>\n",
       "<style scoped>\n",
       "    .dataframe tbody tr th:only-of-type {\n",
       "        vertical-align: middle;\n",
       "    }\n",
       "\n",
       "    .dataframe tbody tr th {\n",
       "        vertical-align: top;\n",
       "    }\n",
       "\n",
       "    .dataframe thead th {\n",
       "        text-align: right;\n",
       "    }\n",
       "</style>\n",
       "<table border=\"1\" class=\"dataframe\">\n",
       "  <thead>\n",
       "    <tr style=\"text-align: right;\">\n",
       "      <th></th>\n",
       "      <th>agency_cd</th>\n",
       "      <th>site_no</th>\n",
       "      <th>datetime</th>\n",
       "      <th>tz_cd</th>\n",
       "      <th>122083_00065</th>\n",
       "      <th>122083_00065_cd</th>\n",
       "      <th>122084_00060</th>\n",
       "      <th>122084_00060_cd</th>\n",
       "    </tr>\n",
       "  </thead>\n",
       "  <tbody>\n",
       "    <tr>\n",
       "      <th>0</th>\n",
       "      <td>USGS</td>\n",
       "      <td>1571500</td>\n",
       "      <td>1/1/15 0:00</td>\n",
       "      <td>EST</td>\n",
       "      <td>1.37</td>\n",
       "      <td>A</td>\n",
       "      <td>223.0</td>\n",
       "      <td>A</td>\n",
       "    </tr>\n",
       "    <tr>\n",
       "      <th>1</th>\n",
       "      <td>USGS</td>\n",
       "      <td>1571500</td>\n",
       "      <td>1/1/15 0:15</td>\n",
       "      <td>EST</td>\n",
       "      <td>1.38</td>\n",
       "      <td>A</td>\n",
       "      <td>228.0</td>\n",
       "      <td>A</td>\n",
       "    </tr>\n",
       "    <tr>\n",
       "      <th>2</th>\n",
       "      <td>USGS</td>\n",
       "      <td>1571500</td>\n",
       "      <td>1/1/15 0:30</td>\n",
       "      <td>EST</td>\n",
       "      <td>1.37</td>\n",
       "      <td>A</td>\n",
       "      <td>223.0</td>\n",
       "      <td>A</td>\n",
       "    </tr>\n",
       "    <tr>\n",
       "      <th>3</th>\n",
       "      <td>USGS</td>\n",
       "      <td>1571500</td>\n",
       "      <td>1/1/15 0:45</td>\n",
       "      <td>EST</td>\n",
       "      <td>1.37</td>\n",
       "      <td>A</td>\n",
       "      <td>223.0</td>\n",
       "      <td>A</td>\n",
       "    </tr>\n",
       "    <tr>\n",
       "      <th>4</th>\n",
       "      <td>USGS</td>\n",
       "      <td>1571500</td>\n",
       "      <td>1/1/15 1:00</td>\n",
       "      <td>EST</td>\n",
       "      <td>1.37</td>\n",
       "      <td>A</td>\n",
       "      <td>223.0</td>\n",
       "      <td>A</td>\n",
       "    </tr>\n",
       "  </tbody>\n",
       "</table>\n",
       "</div>"
      ],
      "text/plain": [
       "  agency_cd  site_no     datetime tz_cd  122083_00065 122083_00065_cd  \\\n",
       "0      USGS  1571500  1/1/15 0:00   EST          1.37               A   \n",
       "1      USGS  1571500  1/1/15 0:15   EST          1.38               A   \n",
       "2      USGS  1571500  1/1/15 0:30   EST          1.37               A   \n",
       "3      USGS  1571500  1/1/15 0:45   EST          1.37               A   \n",
       "4      USGS  1571500  1/1/15 1:00   EST          1.37               A   \n",
       "\n",
       "   122084_00060 122084_00060_cd  \n",
       "0         223.0               A  \n",
       "1         228.0               A  \n",
       "2         223.0               A  \n",
       "3         223.0               A  \n",
       "4         223.0               A  "
      ]
     },
     "execution_count": 19,
     "metadata": {},
     "output_type": "execute_result"
    }
   ],
   "source": [
    "csv = pd.read_csv('data/USGS/Yellow-Breeches-Creek/20150101-20201231.csv', skiprows=30)\n",
    "csv.head()"
   ]
  },
  {
   "cell_type": "code",
   "execution_count": null,
   "id": "objective-document",
   "metadata": {},
   "outputs": [],
   "source": []
  }
 ],
 "metadata": {
  "kernelspec": {
   "display_name": "Python 3",
   "language": "python",
   "name": "python3"
  },
  "language_info": {
   "codemirror_mode": {
    "name": "ipython",
    "version": 3
   },
   "file_extension": ".py",
   "mimetype": "text/x-python",
   "name": "python",
   "nbconvert_exporter": "python",
   "pygments_lexer": "ipython3",
   "version": "3.8.7"
  }
 },
 "nbformat": 4,
 "nbformat_minor": 5
}
