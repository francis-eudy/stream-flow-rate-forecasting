{
 "cells": [
  {
   "cell_type": "code",
   "execution_count": 15,
   "id": "young-circulation",
   "metadata": {},
   "outputs": [],
   "source": [
    "import numpy as np\n",
    "import pandas as pd\n",
    "import requests \n",
    "import json\n",
    "from pandas.io.json import json_normalize\n",
    "\n",
    "\n",
    "# URL\n",
    "# https://waterdata.usgs.gov/pa/nwis/uv?format=rdb&site_no=01571500&period=&begin_date=2021-01-01&end_date=2021-01-20\n"
   ]
  },
  {
   "cell_type": "code",
   "execution_count": 16,
   "id": "prepared-dictionary",
   "metadata": {},
   "outputs": [],
   "source": [
    "FORMAT = 'json' # rdb\n",
    "SITE_NUMBER = '01571500' # Yellow Breeches Creek near Camp Hill, PA\n",
    "BEGIN_DATE = '2020-01-01' # 1985-10-01 / 2007-10-01\n",
    "END_DATE = '2020-02-01' # 2021-01-18 / 2021-01-18\n",
    "\n",
    "EXPORT_PATH = ''\n",
    "EXPORT_FILE = ''"
   ]
  },
  {
   "cell_type": "code",
   "execution_count": 17,
   "id": "stone-cartoon",
   "metadata": {},
   "outputs": [
    {
     "data": {
      "text/plain": [
       "'https://nwis.waterservices.usgs.gov/nwis/iv/?site=01571500&format=json&startDT=2020-01-01&endDT=2020-02-01'"
      ]
     },
     "execution_count": 17,
     "metadata": {},
     "output_type": "execute_result"
    }
   ],
   "source": [
    "# url = 'https://nwis.waterdata.usgs.gov/pa/nwis/uv/?format={}&site_no={}&period=&begin_date={}&end_date={}'.format(FORMAT, SITE_NUMBER, BEGIN_DATE, END_DATE)\n",
    "url = 'https://nwis.waterservices.usgs.gov/nwis/iv/?site={}&format={}&startDT={}&endDT={}'.format(SITE_NUMBER, FORMAT, BEGIN_DATE, END_DATE)\n",
    "url"
   ]
  },
  {
   "cell_type": "code",
   "execution_count": 18,
   "id": "forbidden-duncan",
   "metadata": {},
   "outputs": [],
   "source": [
    "# Get Request\n",
    "response = requests.get(url).json()\n",
    "# response\n"
   ]
  },
  {
   "cell_type": "code",
   "execution_count": 19,
   "id": "negative-ivory",
   "metadata": {},
   "outputs": [
    {
     "data": {
      "text/plain": [
       "{'variableCode': [{'value': '00060',\n",
       "   'network': 'NWIS',\n",
       "   'vocabulary': 'NWIS:UnitValues',\n",
       "   'variableID': 45807197,\n",
       "   'default': True}],\n",
       " 'variableName': 'Streamflow, ft&#179;/s',\n",
       " 'variableDescription': 'Discharge, cubic feet per second',\n",
       " 'valueType': 'Derived Value',\n",
       " 'unit': {'unitCode': 'ft3/s'},\n",
       " 'options': {'option': [{'name': 'Statistic', 'optionCode': '00000'}]},\n",
       " 'note': [],\n",
       " 'noDataValue': -999999.0,\n",
       " 'variableProperty': [],\n",
       " 'oid': '45807197'}"
      ]
     },
     "execution_count": 19,
     "metadata": {},
     "output_type": "execute_result"
    }
   ],
   "source": [
    "foobar = response['value']['timeSeries'][0]['variable']\n",
    "foobar"
   ]
  },
  {
   "cell_type": "code",
   "execution_count": 20,
   "id": "olive-artist",
   "metadata": {},
   "outputs": [
    {
     "name": "stdout",
     "output_type": "stream",
     "text": [
      "Series:  0\n",
      "Variable Name:  Streamflow, ft&#179;/s\n",
      "Variable Description:  Discharge, cubic feet per second\n",
      "Variable Units:  ft3/s\n",
      "  streamflow                       dateTime streamflow_units\n",
      "0        311  2020-01-01T00:00:00.000-05:00            ft3/s\n",
      "1        311  2020-01-01T00:15:00.000-05:00            ft3/s\n",
      "2        308  2020-01-01T00:30:00.000-05:00            ft3/s\n",
      "3        311  2020-01-01T00:45:00.000-05:00            ft3/s\n",
      "4        308  2020-01-01T01:00:00.000-05:00            ft3/s\n",
      "\n",
      "\n",
      "Series:  1\n",
      "Variable Name:  Gage height, ft\n",
      "Variable Description:  Gage height, feet\n",
      "Variable Units:  ft\n",
      "  gage_height                       dateTime gage_height_units\n",
      "0        1.69  2020-01-01T00:00:00.000-05:00                ft\n",
      "1        1.69  2020-01-01T00:15:00.000-05:00                ft\n",
      "2        1.68  2020-01-01T00:30:00.000-05:00                ft\n",
      "3        1.69  2020-01-01T00:45:00.000-05:00                ft\n",
      "4        1.68  2020-01-01T01:00:00.000-05:00                ft\n",
      "\n",
      "\n"
     ]
    },
    {
     "name": "stderr",
     "output_type": "stream",
     "text": [
      "<ipython-input-20-e10b28ef41c5>:9: FutureWarning: pandas.io.json.json_normalize is deprecated, use pandas.json_normalize instead\n",
      "  series_df = json_normalize(series['values'][0]['value'])\n",
      "<ipython-input-20-e10b28ef41c5>:9: FutureWarning: pandas.io.json.json_normalize is deprecated, use pandas.json_normalize instead\n",
      "  series_df = json_normalize(series['values'][0]['value'])\n"
     ]
    }
   ],
   "source": [
    "time_series_dfs = []\n",
    "for i, series in enumerate(response['value']['timeSeries']):\n",
    "    print(\"Series: \", str(i))\n",
    "    print(\"Variable Name: \", series['variable']['variableName'])\n",
    "    print(\"Variable Description: \", series['variable']['variableDescription'])\n",
    "    print(\"Variable Units: \", series['variable']['unit']['unitCode'])\n",
    "    \n",
    "    # Create Data Frame\n",
    "    series_df = json_normalize(series['values'][0]['value'])\n",
    "    \n",
    "    # Rename Value Column to be the Variable Name\n",
    "    new_value_name = series['variable']['variableName'].split(',')[0].replace(' ', '_').lower()\n",
    "    series_df.rename(columns={'value': new_value_name}, inplace=True)\n",
    "    # Add Unit Column\n",
    "    series_df[new_value_name+'_units'] = series['variable']['unit']['unitCode']\n",
    "    # Drop Qualifiers Columns\n",
    "    series_df.drop(['qualifiers'], axis=1, inplace=True)\n",
    "    \n",
    "    print(series_df.head())\n",
    "    print('\\n')\n",
    "    \n",
    "    # Push to Array of DF\n",
    "    time_series_dfs.append(series_df)\n",
    "    "
   ]
  },
  {
   "cell_type": "code",
   "execution_count": 21,
   "id": "mediterranean-metadata",
   "metadata": {},
   "outputs": [
    {
     "data": {
      "text/html": [
       "<div>\n",
       "<style scoped>\n",
       "    .dataframe tbody tr th:only-of-type {\n",
       "        vertical-align: middle;\n",
       "    }\n",
       "\n",
       "    .dataframe tbody tr th {\n",
       "        vertical-align: top;\n",
       "    }\n",
       "\n",
       "    .dataframe thead th {\n",
       "        text-align: right;\n",
       "    }\n",
       "</style>\n",
       "<table border=\"1\" class=\"dataframe\">\n",
       "  <thead>\n",
       "    <tr style=\"text-align: right;\">\n",
       "      <th></th>\n",
       "      <th>streamflow</th>\n",
       "      <th>streamflow_units</th>\n",
       "      <th>gage_height</th>\n",
       "      <th>gage_height_units</th>\n",
       "    </tr>\n",
       "  </thead>\n",
       "  <tbody>\n",
       "    <tr>\n",
       "      <th>2020-01-01T00:00:00.000-05:00</th>\n",
       "      <td>311</td>\n",
       "      <td>ft3/s</td>\n",
       "      <td>1.69</td>\n",
       "      <td>ft</td>\n",
       "    </tr>\n",
       "    <tr>\n",
       "      <th>2020-01-01T00:15:00.000-05:00</th>\n",
       "      <td>311</td>\n",
       "      <td>ft3/s</td>\n",
       "      <td>1.69</td>\n",
       "      <td>ft</td>\n",
       "    </tr>\n",
       "    <tr>\n",
       "      <th>2020-01-01T00:30:00.000-05:00</th>\n",
       "      <td>308</td>\n",
       "      <td>ft3/s</td>\n",
       "      <td>1.68</td>\n",
       "      <td>ft</td>\n",
       "    </tr>\n",
       "    <tr>\n",
       "      <th>2020-01-01T00:45:00.000-05:00</th>\n",
       "      <td>311</td>\n",
       "      <td>ft3/s</td>\n",
       "      <td>1.69</td>\n",
       "      <td>ft</td>\n",
       "    </tr>\n",
       "    <tr>\n",
       "      <th>2020-01-01T01:00:00.000-05:00</th>\n",
       "      <td>308</td>\n",
       "      <td>ft3/s</td>\n",
       "      <td>1.68</td>\n",
       "      <td>ft</td>\n",
       "    </tr>\n",
       "  </tbody>\n",
       "</table>\n",
       "</div>"
      ],
      "text/plain": [
       "                              streamflow streamflow_units gage_height  \\\n",
       "2020-01-01T00:00:00.000-05:00        311            ft3/s        1.69   \n",
       "2020-01-01T00:15:00.000-05:00        311            ft3/s        1.69   \n",
       "2020-01-01T00:30:00.000-05:00        308            ft3/s        1.68   \n",
       "2020-01-01T00:45:00.000-05:00        311            ft3/s        1.69   \n",
       "2020-01-01T01:00:00.000-05:00        308            ft3/s        1.68   \n",
       "\n",
       "                              gage_height_units  \n",
       "2020-01-01T00:00:00.000-05:00                ft  \n",
       "2020-01-01T00:15:00.000-05:00                ft  \n",
       "2020-01-01T00:30:00.000-05:00                ft  \n",
       "2020-01-01T00:45:00.000-05:00                ft  \n",
       "2020-01-01T01:00:00.000-05:00                ft  "
      ]
     },
     "execution_count": 21,
     "metadata": {},
     "output_type": "execute_result"
    }
   ],
   "source": [
    "# merge the Time Series DataFrame\n",
    "df = pd.merge(time_series_dfs[0], time_series_dfs[1], on='dateTime')\n",
    "df.set_index('dateTime', inplace=True)\n",
    "df.index.name = None\n",
    "df.head()"
   ]
  },
  {
   "cell_type": "code",
   "execution_count": null,
   "id": "objective-document",
   "metadata": {},
   "outputs": [],
   "source": [
    "# Add Export "
   ]
  }
 ],
 "metadata": {
  "kernelspec": {
   "display_name": "Python 3",
   "language": "python",
   "name": "python3"
  },
  "language_info": {
   "codemirror_mode": {
    "name": "ipython",
    "version": 3
   },
   "file_extension": ".py",
   "mimetype": "text/x-python",
   "name": "python",
   "nbconvert_exporter": "python",
   "pygments_lexer": "ipython3",
   "version": "3.8.7"
  }
 },
 "nbformat": 4,
 "nbformat_minor": 5
}
